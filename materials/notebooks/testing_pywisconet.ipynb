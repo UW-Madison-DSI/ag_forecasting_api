{
  "nbformat": 4,
  "nbformat_minor": 0,
  "metadata": {
    "colab": {
      "provenance": []
    },
    "kernelspec": {
      "name": "python3",
      "display_name": "Python 3"
    },
    "language_info": {
      "name": "python"
    }
  },
  "cells": [
    {
      "cell_type": "code",
      "source": [
        "import seaborn as sns\n",
        "import numpy as np\n",
        "import plotly.express as plt\n",
        "import pandas as pd"
      ],
      "metadata": {
        "id": "nZdQB5oUejA4"
      },
      "execution_count": null,
      "outputs": []
    },
    {
      "cell_type": "code",
      "source": [],
      "metadata": {
        "id": "I18rWCbCI59h"
      },
      "execution_count": null,
      "outputs": []
    },
    {
      "cell_type": "code",
      "source": [
        "import pandas as pd"
      ],
      "metadata": {
        "id": "qaDfmzPN3Gmo"
      },
      "execution_count": null,
      "outputs": []
    },
    {
      "cell_type": "code",
      "source": [
        "import requests\n",
        "\n",
        "\n",
        "station_id ='ALTN'\n",
        "# Define the API endpoint and query parameters\n",
        "url = f\"https://connect.doit.wisc.edu/pywisconet_wrapper/bulk_measures/{station_id}\"\n",
        "params = {\n",
        "    \"start_date\": \"2024-07-01\",\n",
        "    \"end_date\": \"2024-07-02\",\n",
        "    \"measurements\": \"AIRTEMP\",\n",
        "    \"frequency\": \"MIN60\"\n",
        "}\n",
        "\n",
        "# Optional headers (include Authorization if needed)\n",
        "headers = {\n",
        "    \"accept\": \"application/json\",\n",
        "    # \"Authorization\": \"Bearer YOUR_API_TOKEN\"  # Uncomment and replace with your token if required\n",
        "}\n",
        "\n",
        "# Make the GET request\n",
        "response = requests.get(url, params=params, headers=headers)\n",
        "\n",
        "# Check the response status\n",
        "if response.status_code == 200:\n",
        "    # Parse JSON response\n",
        "    data = response.json()\n",
        "    print(\"Response Data:\", data)\n",
        "else:\n",
        "    # Handle errors\n",
        "    print(f\"Error: {response.status_code}\")\n",
        "    print(response.text)\n"
      ],
      "metadata": {
        "colab": {
          "base_uri": "https://localhost:8080/"
        },
        "id": "Gpo7wkFWiZ_O",
        "outputId": "fc7bb58f-22e2-46c3-912b-b5c280ffd458"
      },
      "execution_count": null,
      "outputs": [
        {
          "output_type": "stream",
          "name": "stdout",
          "text": [
            "Response Data: [{'collection_time': '2024-07-01T00:00:00', 'value': 69.5, 'id': 2, 'collection_frequency': '60min', 'conversion_type': 'c2f', 'data_type': 'float', 'final_units': 'fahrenheit', 'measure_type': 'Air Temp', 'qualifier': 'avg', 'sensor': '', 'source_field': 'airtemp_c_avg@Table60', 'source_units': 'celsius', 'standard_name': '60min_air_temp_f_avg', 'units_abbrev': 'f', 'use_for': ''}, {'collection_time': '2024-07-01T01:00:00', 'value': 68.1, 'id': 2, 'collection_frequency': '60min', 'conversion_type': 'c2f', 'data_type': 'float', 'final_units': 'fahrenheit', 'measure_type': 'Air Temp', 'qualifier': 'avg', 'sensor': '', 'source_field': 'airtemp_c_avg@Table60', 'source_units': 'celsius', 'standard_name': '60min_air_temp_f_avg', 'units_abbrev': 'f', 'use_for': ''}, {'collection_time': '2024-07-01T02:00:00', 'value': 64.2, 'id': 2, 'collection_frequency': '60min', 'conversion_type': 'c2f', 'data_type': 'float', 'final_units': 'fahrenheit', 'measure_type': 'Air Temp', 'qualifier': 'avg', 'sensor': '', 'source_field': 'airtemp_c_avg@Table60', 'source_units': 'celsius', 'standard_name': '60min_air_temp_f_avg', 'units_abbrev': 'f', 'use_for': ''}, {'collection_time': '2024-07-01T03:00:00', 'value': 59.6, 'id': 2, 'collection_frequency': '60min', 'conversion_type': 'c2f', 'data_type': 'float', 'final_units': 'fahrenheit', 'measure_type': 'Air Temp', 'qualifier': 'avg', 'sensor': '', 'source_field': 'airtemp_c_avg@Table60', 'source_units': 'celsius', 'standard_name': '60min_air_temp_f_avg', 'units_abbrev': 'f', 'use_for': ''}, {'collection_time': '2024-07-01T04:00:00', 'value': 56.6, 'id': 2, 'collection_frequency': '60min', 'conversion_type': 'c2f', 'data_type': 'float', 'final_units': 'fahrenheit', 'measure_type': 'Air Temp', 'qualifier': 'avg', 'sensor': '', 'source_field': 'airtemp_c_avg@Table60', 'source_units': 'celsius', 'standard_name': '60min_air_temp_f_avg', 'units_abbrev': 'f', 'use_for': ''}, {'collection_time': '2024-07-01T05:00:00', 'value': 55.1, 'id': 2, 'collection_frequency': '60min', 'conversion_type': 'c2f', 'data_type': 'float', 'final_units': 'fahrenheit', 'measure_type': 'Air Temp', 'qualifier': 'avg', 'sensor': '', 'source_field': 'airtemp_c_avg@Table60', 'source_units': 'celsius', 'standard_name': '60min_air_temp_f_avg', 'units_abbrev': 'f', 'use_for': ''}, {'collection_time': '2024-07-01T06:00:00', 'value': 53.6, 'id': 2, 'collection_frequency': '60min', 'conversion_type': 'c2f', 'data_type': 'float', 'final_units': 'fahrenheit', 'measure_type': 'Air Temp', 'qualifier': 'avg', 'sensor': '', 'source_field': 'airtemp_c_avg@Table60', 'source_units': 'celsius', 'standard_name': '60min_air_temp_f_avg', 'units_abbrev': 'f', 'use_for': ''}, {'collection_time': '2024-07-01T07:00:00', 'value': 52.5, 'id': 2, 'collection_frequency': '60min', 'conversion_type': 'c2f', 'data_type': 'float', 'final_units': 'fahrenheit', 'measure_type': 'Air Temp', 'qualifier': 'avg', 'sensor': '', 'source_field': 'airtemp_c_avg@Table60', 'source_units': 'celsius', 'standard_name': '60min_air_temp_f_avg', 'units_abbrev': 'f', 'use_for': ''}, {'collection_time': '2024-07-01T08:00:00', 'value': 51.2, 'id': 2, 'collection_frequency': '60min', 'conversion_type': 'c2f', 'data_type': 'float', 'final_units': 'fahrenheit', 'measure_type': 'Air Temp', 'qualifier': 'avg', 'sensor': '', 'source_field': 'airtemp_c_avg@Table60', 'source_units': 'celsius', 'standard_name': '60min_air_temp_f_avg', 'units_abbrev': 'f', 'use_for': ''}, {'collection_time': '2024-07-01T09:00:00', 'value': 50.7, 'id': 2, 'collection_frequency': '60min', 'conversion_type': 'c2f', 'data_type': 'float', 'final_units': 'fahrenheit', 'measure_type': 'Air Temp', 'qualifier': 'avg', 'sensor': '', 'source_field': 'airtemp_c_avg@Table60', 'source_units': 'celsius', 'standard_name': '60min_air_temp_f_avg', 'units_abbrev': 'f', 'use_for': ''}, {'collection_time': '2024-07-01T10:00:00', 'value': 51.2, 'id': 2, 'collection_frequency': '60min', 'conversion_type': 'c2f', 'data_type': 'float', 'final_units': 'fahrenheit', 'measure_type': 'Air Temp', 'qualifier': 'avg', 'sensor': '', 'source_field': 'airtemp_c_avg@Table60', 'source_units': 'celsius', 'standard_name': '60min_air_temp_f_avg', 'units_abbrev': 'f', 'use_for': ''}, {'collection_time': '2024-07-01T11:00:00', 'value': 51.1, 'id': 2, 'collection_frequency': '60min', 'conversion_type': 'c2f', 'data_type': 'float', 'final_units': 'fahrenheit', 'measure_type': 'Air Temp', 'qualifier': 'avg', 'sensor': '', 'source_field': 'airtemp_c_avg@Table60', 'source_units': 'celsius', 'standard_name': '60min_air_temp_f_avg', 'units_abbrev': 'f', 'use_for': ''}, {'collection_time': '2024-07-01T12:00:00', 'value': 54.4, 'id': 2, 'collection_frequency': '60min', 'conversion_type': 'c2f', 'data_type': 'float', 'final_units': 'fahrenheit', 'measure_type': 'Air Temp', 'qualifier': 'avg', 'sensor': '', 'source_field': 'airtemp_c_avg@Table60', 'source_units': 'celsius', 'standard_name': '60min_air_temp_f_avg', 'units_abbrev': 'f', 'use_for': ''}, {'collection_time': '2024-07-01T13:00:00', 'value': 58.6, 'id': 2, 'collection_frequency': '60min', 'conversion_type': 'c2f', 'data_type': 'float', 'final_units': 'fahrenheit', 'measure_type': 'Air Temp', 'qualifier': 'avg', 'sensor': '', 'source_field': 'airtemp_c_avg@Table60', 'source_units': 'celsius', 'standard_name': '60min_air_temp_f_avg', 'units_abbrev': 'f', 'use_for': ''}, {'collection_time': '2024-07-01T14:00:00', 'value': 61.5, 'id': 2, 'collection_frequency': '60min', 'conversion_type': 'c2f', 'data_type': 'float', 'final_units': 'fahrenheit', 'measure_type': 'Air Temp', 'qualifier': 'avg', 'sensor': '', 'source_field': 'airtemp_c_avg@Table60', 'source_units': 'celsius', 'standard_name': '60min_air_temp_f_avg', 'units_abbrev': 'f', 'use_for': ''}, {'collection_time': '2024-07-01T15:00:00', 'value': 63.8, 'id': 2, 'collection_frequency': '60min', 'conversion_type': 'c2f', 'data_type': 'float', 'final_units': 'fahrenheit', 'measure_type': 'Air Temp', 'qualifier': 'avg', 'sensor': '', 'source_field': 'airtemp_c_avg@Table60', 'source_units': 'celsius', 'standard_name': '60min_air_temp_f_avg', 'units_abbrev': 'f', 'use_for': ''}, {'collection_time': '2024-07-01T16:00:00', 'value': 65.7, 'id': 2, 'collection_frequency': '60min', 'conversion_type': 'c2f', 'data_type': 'float', 'final_units': 'fahrenheit', 'measure_type': 'Air Temp', 'qualifier': 'avg', 'sensor': '', 'source_field': 'airtemp_c_avg@Table60', 'source_units': 'celsius', 'standard_name': '60min_air_temp_f_avg', 'units_abbrev': 'f', 'use_for': ''}, {'collection_time': '2024-07-01T17:00:00', 'value': 67.5, 'id': 2, 'collection_frequency': '60min', 'conversion_type': 'c2f', 'data_type': 'float', 'final_units': 'fahrenheit', 'measure_type': 'Air Temp', 'qualifier': 'avg', 'sensor': '', 'source_field': 'airtemp_c_avg@Table60', 'source_units': 'celsius', 'standard_name': '60min_air_temp_f_avg', 'units_abbrev': 'f', 'use_for': ''}, {'collection_time': '2024-07-01T18:00:00', 'value': 69.4, 'id': 2, 'collection_frequency': '60min', 'conversion_type': 'c2f', 'data_type': 'float', 'final_units': 'fahrenheit', 'measure_type': 'Air Temp', 'qualifier': 'avg', 'sensor': '', 'source_field': 'airtemp_c_avg@Table60', 'source_units': 'celsius', 'standard_name': '60min_air_temp_f_avg', 'units_abbrev': 'f', 'use_for': ''}, {'collection_time': '2024-07-01T19:00:00', 'value': 70.3, 'id': 2, 'collection_frequency': '60min', 'conversion_type': 'c2f', 'data_type': 'float', 'final_units': 'fahrenheit', 'measure_type': 'Air Temp', 'qualifier': 'avg', 'sensor': '', 'source_field': 'airtemp_c_avg@Table60', 'source_units': 'celsius', 'standard_name': '60min_air_temp_f_avg', 'units_abbrev': 'f', 'use_for': ''}, {'collection_time': '2024-07-01T20:00:00', 'value': 70.9, 'id': 2, 'collection_frequency': '60min', 'conversion_type': 'c2f', 'data_type': 'float', 'final_units': 'fahrenheit', 'measure_type': 'Air Temp', 'qualifier': 'avg', 'sensor': '', 'source_field': 'airtemp_c_avg@Table60', 'source_units': 'celsius', 'standard_name': '60min_air_temp_f_avg', 'units_abbrev': 'f', 'use_for': ''}, {'collection_time': '2024-07-01T21:00:00', 'value': 71.9, 'id': 2, 'collection_frequency': '60min', 'conversion_type': 'c2f', 'data_type': 'float', 'final_units': 'fahrenheit', 'measure_type': 'Air Temp', 'qualifier': 'avg', 'sensor': '', 'source_field': 'airtemp_c_avg@Table60', 'source_units': 'celsius', 'standard_name': '60min_air_temp_f_avg', 'units_abbrev': 'f', 'use_for': ''}, {'collection_time': '2024-07-01T22:00:00', 'value': 72.2, 'id': 2, 'collection_frequency': '60min', 'conversion_type': 'c2f', 'data_type': 'float', 'final_units': 'fahrenheit', 'measure_type': 'Air Temp', 'qualifier': 'avg', 'sensor': '', 'source_field': 'airtemp_c_avg@Table60', 'source_units': 'celsius', 'standard_name': '60min_air_temp_f_avg', 'units_abbrev': 'f', 'use_for': ''}, {'collection_time': '2024-07-01T23:00:00', 'value': 71.5, 'id': 2, 'collection_frequency': '60min', 'conversion_type': 'c2f', 'data_type': 'float', 'final_units': 'fahrenheit', 'measure_type': 'Air Temp', 'qualifier': 'avg', 'sensor': '', 'source_field': 'airtemp_c_avg@Table60', 'source_units': 'celsius', 'standard_name': '60min_air_temp_f_avg', 'units_abbrev': 'f', 'use_for': ''}]\n"
          ]
        }
      ]
    },
    {
      "cell_type": "code",
      "source": [],
      "metadata": {
        "id": "HcRUgb7WifP1"
      },
      "execution_count": null,
      "outputs": []
    }
  ]
}